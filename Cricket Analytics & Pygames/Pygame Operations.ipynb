{
 "cells": [
  {
   "cell_type": "code",
   "execution_count": 1,
   "id": "44584294",
   "metadata": {},
   "outputs": [
    {
     "name": "stdout",
     "output_type": "stream",
     "text": [
      "pygame 2.1.2 (SDL 2.0.16, Python 3.6.15)\n",
      "Hello from the pygame community. https://www.pygame.org/contribute.html\n"
     ]
    }
   ],
   "source": [
    "import pygame\n",
    "\n",
    "\n",
    "pygame.init()\n",
    "win = pygame.display.set_mode((500,500))\n",
    "pygame.display.set_caption(\"First Game\")\n",
    "\n",
    "x = 50\n",
    "y = 50\n",
    "width = 40\n",
    "height = 60\n",
    "vel = 15\n",
    "\n",
    "isJump = False\n",
    "jumpCount = 10\n",
    "\n",
    "run = True\n",
    "while run:\n",
    "    pygame.time.delay(50)\n",
    "    \n",
    "    for event in pygame.event.get():\n",
    "        if event.type == pygame.QUIT :\n",
    "            run = False\n",
    "            \n",
    "    keys = pygame.key.get_pressed()\n",
    "    \n",
    "    if keys[pygame.K_LEFT] and x > vel:\n",
    "        x -= vel\n",
    "        \n",
    "    if keys[pygame.K_RIGHT] and x < 500-width-vel:\n",
    "        x += vel\n",
    "        \n",
    "    if not(isJump):\n",
    "        if keys[pygame.K_UP] and y > vel:\n",
    "            y -= vel\n",
    "\n",
    "        if keys[pygame.K_DOWN] and y < 500-height-vel:\n",
    "            y += vel\n",
    "\n",
    "        if keys[pygame.K_SPACE]:\n",
    "            isJump = True\n",
    "    else:\n",
    "        if jumpCount >= -10:\n",
    "            y -= (jumpCount * abs(jumpCount)) * 0.5\n",
    "            jumpCount -= 1\n",
    "        else:\n",
    "            isJump = False\n",
    "            jumpCount = 10\n",
    "            \n",
    "        \n",
    "    win.fill((0,0,0))            \n",
    "    pygame.draw.rect(win,(255,0,0),(x,y,width,height))\n",
    "    pygame.display.update()\n",
    "            \n",
    "pygame.quit()"
   ]
  },
  {
   "cell_type": "code",
   "execution_count": null,
   "id": "79068050",
   "metadata": {},
   "outputs": [],
   "source": []
  },
  {
   "cell_type": "code",
   "execution_count": null,
   "id": "81a7de36",
   "metadata": {},
   "outputs": [],
   "source": []
  }
 ],
 "metadata": {
  "kernelspec": {
   "display_name": "Python 3",
   "language": "python",
   "name": "python3"
  },
  "language_info": {
   "codemirror_mode": {
    "name": "ipython",
    "version": 3
   },
   "file_extension": ".py",
   "mimetype": "text/x-python",
   "name": "python",
   "nbconvert_exporter": "python",
   "pygments_lexer": "ipython3",
   "version": "3.6.15"
  }
 },
 "nbformat": 4,
 "nbformat_minor": 5
}
