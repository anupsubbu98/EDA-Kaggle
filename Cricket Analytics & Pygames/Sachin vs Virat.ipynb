{
 "cells": [
  {
   "cell_type": "code",
   "execution_count": null,
   "metadata": {},
   "outputs": [],
   "source": [
    "import numpy as np\n",
    "import pandas as pd\n",
    "import matplotlib.pyplot as plt"
   ]
  },
  {
   "cell_type": "code",
   "execution_count": null,
   "metadata": {},
   "outputs": [],
   "source": [
    "pd.set_option('display.max_rows',None)\n",
    "pd.set_option('display.max_columns',None)"
   ]
  },
  {
   "cell_type": "code",
   "execution_count": null,
   "metadata": {},
   "outputs": [],
   "source": [
    "df = pd.read_csv('ODI_data.csv')\n",
    "df.head(2)"
   ]
  },
  {
   "cell_type": "code",
   "execution_count": null,
   "metadata": {},
   "outputs": [],
   "source": [
    "df['Innings Runs Scored Num'].unique()"
   ]
  },
  {
   "cell_type": "code",
   "execution_count": null,
   "metadata": {},
   "outputs": [],
   "source": [
    "df = df[df['Innings Runs Scored Num'] != '-']"
   ]
  },
  {
   "cell_type": "code",
   "execution_count": null,
   "metadata": {},
   "outputs": [],
   "source": [
    "df = df.dropna(subset=['Innings Runs Scored Num'])"
   ]
  },
  {
   "cell_type": "code",
   "execution_count": null,
   "metadata": {},
   "outputs": [],
   "source": [
    "df['Innings Date'] = pd.to_datetime(df['Innings Date']) "
   ]
  },
  {
   "cell_type": "code",
   "execution_count": null,
   "metadata": {},
   "outputs": [],
   "source": [
    "df['Year'] = df['Innings Date'].dt.year"
   ]
  },
  {
   "cell_type": "code",
   "execution_count": null,
   "metadata": {},
   "outputs": [],
   "source": [
    "df.head(2)"
   ]
  },
  {
   "cell_type": "code",
   "execution_count": null,
   "metadata": {},
   "outputs": [],
   "source": [
    "df.dtypes"
   ]
  },
  {
   "cell_type": "code",
   "execution_count": null,
   "metadata": {},
   "outputs": [],
   "source": [
    "df['Innings Runs Scored Num'] = df['Innings Runs Scored Num'].astype(int)\n",
    "df['Innings Balls Faced'] = df['Innings Balls Faced'].astype(int)\n",
    "df['Innings Not Out Flag'] = df['Innings Not Out Flag'].astype(int)\n",
    "df['Innings Batted Flag'] = df['Innings Batted Flag'].astype(int)"
   ]
  },
  {
   "cell_type": "code",
   "execution_count": null,
   "metadata": {},
   "outputs": [],
   "source": [
    "sachin_df = df[(df.Year>=1994) & (df.Year<=2004)]\n",
    "kohli_df = df[(df.Year>=2009) & (df.Year<=2019)]"
   ]
  },
  {
   "cell_type": "code",
   "execution_count": null,
   "metadata": {},
   "outputs": [],
   "source": [
    "sachin_df.head(2)"
   ]
  },
  {
   "cell_type": "code",
   "execution_count": null,
   "metadata": {},
   "outputs": [],
   "source": [
    "sdf = df[(df.Year>=1994) & (df.Year<=2004) & (df['Innings Player']=='SR Tendulkar')]\n",
    "sdf.reset_index(drop=True)\n",
    "sdf.head(2)"
   ]
  },
  {
   "cell_type": "code",
   "execution_count": null,
   "metadata": {},
   "outputs": [],
   "source": [
    "sdf['Innings Runs Scored Num'].sum()"
   ]
  },
  {
   "cell_type": "code",
   "execution_count": null,
   "metadata": {},
   "outputs": [],
   "source": [
    "kdf = df[(df.Year>=2009) & (df.Year<=2019) & (df['Innings Player']=='V Kohli')]\n",
    "kdf.reset_index(drop=True)\n",
    "kdf.head(2)"
   ]
  },
  {
   "cell_type": "code",
   "execution_count": null,
   "metadata": {},
   "outputs": [],
   "source": [
    "kdf['Innings Runs Scored Num'].sum()"
   ]
  },
  {
   "cell_type": "code",
   "execution_count": null,
   "metadata": {},
   "outputs": [],
   "source": [
    "# Runs per Innings  --> Total Runs / Total Innings Played\n",
    "# SR                --> (Total Runs/ TotalBalls) *100\n",
    "# 100's\n",
    "# 50's\n",
    "# Team Contribution --> (Runs score by the player / Runs score by the team) * 100 "
   ]
  },
  {
   "cell_type": "code",
   "execution_count": null,
   "metadata": {},
   "outputs": [],
   "source": [
    "# RPI\n",
    "sachin_rpi = ((sdf['Innings Runs Scored Num'].sum()) / (sdf['Innings Batted Flag'].sum())).round(2)\n",
    "kohli_rpi = ((kdf['Innings Runs Scored Num'].sum()) / (kdf['Innings Batted Flag'].sum())).round(2)\n",
    "\n",
    "sachin_rpi,kohli_rpi"
   ]
  },
  {
   "cell_type": "code",
   "execution_count": null,
   "metadata": {},
   "outputs": [],
   "source": [
    "#SR\n",
    "sachin_sr = (((sdf['Innings Runs Scored Num'].sum()) / ((sdf['Innings Balls Faced'].sum()))) * 100).round(2)\n",
    "kohli_sr = (((kdf['Innings Runs Scored Num'].sum()) / ((kdf['Innings Balls Faced'].sum()))) * 100).round(2)\n",
    "\n",
    "sachin_sr,kohli_sr"
   ]
  },
  {
   "cell_type": "code",
   "execution_count": null,
   "metadata": {},
   "outputs": [],
   "source": [
    "#100's\n",
    "sachin_100 = sdf[\"100's\"].sum()\n",
    "kohli_100  = kdf[\"100's\"].sum()"
   ]
  },
  {
   "cell_type": "code",
   "execution_count": null,
   "metadata": {},
   "outputs": [],
   "source": [
    "#50's\n",
    "sachin_50 = sdf[\"50's\"].sum()\n",
    "kohli_50  = kdf[\"50's\"].sum()"
   ]
  },
  {
   "cell_type": "code",
   "execution_count": null,
   "metadata": {},
   "outputs": [],
   "source": [
    "#Team's Contribution --> (Runs score by the player / Runs score by the team) * 100 \n",
    "\n",
    "India_df_sachin = df[(df.Year>=1994) & (df.Year<=2004) & (df['Country']=='India')]\n",
    "India_df_kohli = df[(df.Year>=2009) & (df.Year<=2019) & (df['Country']=='India')]"
   ]
  },
  {
   "cell_type": "code",
   "execution_count": null,
   "metadata": {},
   "outputs": [],
   "source": [
    "#1994-2004 All Indian Players Runs \n",
    "India_df_sachin['Innings Runs Scored Num'].sum()"
   ]
  },
  {
   "cell_type": "code",
   "execution_count": null,
   "metadata": {},
   "outputs": [],
   "source": [
    "#2009-2019 All Indian Players Runs\n",
    "India_df_kohli['Innings Runs Scored Num'].sum()"
   ]
  },
  {
   "cell_type": "code",
   "execution_count": null,
   "metadata": {},
   "outputs": [],
   "source": [
    "sachin_contribution = ((sdf['Innings Runs Scored Num'].sum() / (India_df_sachin['Innings Runs Scored Num'].sum())) *100).round(2)\n",
    "kohli_contribution = ((kdf['Innings Runs Scored Num'].sum() / (India_df_kohli['Innings Runs Scored Num'].sum())) *100).round(2)\n",
    "\n",
    "sachin_contribution,kohli_contribution"
   ]
  },
  {
   "cell_type": "code",
   "execution_count": null,
   "metadata": {},
   "outputs": [],
   "source": [
    "sachin_df.groupby(['Innings Player'])['Innings Runs Scored Num'].sum().sort_values(ascending=False).head(10)"
   ]
  },
  {
   "cell_type": "code",
   "execution_count": null,
   "metadata": {},
   "outputs": [],
   "source": [
    "sachin_df.groupby(['Innings Player'])['Innings Runs Scored Num'].sum().sort_values(ascending=False).head(10).plot(kind='bar')\n",
    "plt.show()"
   ]
  },
  {
   "cell_type": "code",
   "execution_count": null,
   "metadata": {},
   "outputs": [],
   "source": [
    "kohli_df.groupby(['Innings Player'])['Innings Runs Scored Num'].sum().sort_values(ascending=False).head(10)"
   ]
  },
  {
   "cell_type": "code",
   "execution_count": null,
   "metadata": {},
   "outputs": [],
   "source": [
    "kohli_df.groupby(['Innings Player'])['Innings Runs Scored Num'].sum().sort_values(ascending=False).head(10).plot(kind='barh')\n",
    "plt.show()"
   ]
  },
  {
   "cell_type": "code",
   "execution_count": null,
   "metadata": {},
   "outputs": [],
   "source": [
    "sdf.groupby('Year')['Innings Runs Scored Num'].sum().plot(kind='bar')\n",
    "plt.show()"
   ]
  },
  {
   "cell_type": "code",
   "execution_count": null,
   "metadata": {},
   "outputs": [],
   "source": [
    "kdf.groupby('Year')['Innings Runs Scored Num'].sum().plot(kind='bar')\n",
    "plt.show()"
   ]
  },
  {
   "cell_type": "code",
   "execution_count": null,
   "metadata": {
    "scrolled": true
   },
   "outputs": [],
   "source": [
    "y = [0,20,40,60,80,100]\n",
    "y_min = min(y)\n",
    "y_max = max(y)\n",
    "\n",
    "parameters = ['Runs per Innings','Strike Rate',\"No.of 100's\",\"No.of 50's\",'Contribution to team score']\n",
    "sachin_data = [sachin_rpi,sachin_sr,sachin_100,sachin_50,sachin_contribution]\n",
    "kohli_data  = [kohli_rpi,kohli_sr,kohli_100,kohli_50,kohli_contribution]\n",
    "\n",
    "\n",
    "xpos = np.arange(len(parameters))\n",
    "# width = 0.35     \n",
    "\n",
    "fig, ax = plt.subplots(figsize=(11.5,6))\n",
    "rects1 = plt.bar(xpos-0.2,sachin_data,width=0.35,label='Sachin')\n",
    "plt.ylim(y_min,y_max)\n",
    "rects2 = plt.bar(xpos+0.2,kohli_data,width=0.35,label='Kohli')\n",
    "\n",
    "\n",
    "plt.title('Sachin vs Kohli Analysis',fontsize=25,color='green')\n",
    "plt.xticks(xpos,parameters,fontsize=12)\n",
    "\n",
    "plt.legend((rects1[0], rects2[0]), ('Sachin', 'Kohli'))\n",
    "\n",
    "\n",
    "def autolabel(rects):\n",
    "    for rect in rects:\n",
    "        height = rect.get_height()\n",
    "        if((height == sachin_100) or (height == sachin_50) or (height == kohli_100) or (height == kohli_50)):\n",
    "            ax.text(rect.get_x() + rect.get_width()/2., 1.018*height,\n",
    "                    '%d' % int(height),ha='center')\n",
    "       \n",
    "        elif((height == sachin_contribution) or (height == kohli_contribution)) :\n",
    "            ax.text(rect.get_x() + rect.get_width()/2., 1.018*height,\n",
    "                    '%0.2f' % float(height)+'%',ha='center')\n",
    "            \n",
    "        else:\n",
    "            ax.text(rect.get_x() + rect.get_width()/2., 1.018*height,\n",
    "                    '%0.2f' % float(height),ha='center')\n",
    "\n",
    "autolabel(rects1)\n",
    "autolabel(rects2)\n",
    "plt.show()"
   ]
  },
  {
   "cell_type": "markdown",
   "metadata": {},
   "source": [
    "# Normalization :"
   ]
  },
  {
   "cell_type": "code",
   "execution_count": null,
   "metadata": {},
   "outputs": [],
   "source": [
    "# Sachin/Kohli avg vs Generation avg\n",
    "\n",
    "non_sachin_df =  sachin_df[sachin_df['Innings Player'] != 'SR Tendulkar']\n",
    "non_sachin_df.head()\n",
    "\n",
    "non_kohli_df = kohli_df[kohli_df['Innings Player'] != 'V Kohli']\n",
    "non_kohli_df.head()"
   ]
  },
  {
   "cell_type": "code",
   "execution_count": null,
   "metadata": {},
   "outputs": [],
   "source": [
    "# Scoring rate = Sachin's Rpi / Total players Rpi excluding Sachin's\n",
    "\n",
    "Total_players_rpi = (non_sachin_df['Innings Runs Scored Num']).sum()/ (non_sachin_df['Innings Batted Flag']).sum()\n",
    "sachin_scoring_rate = sachin_rpi/Total_players_rpi\n",
    "sachin_scoring_rate"
   ]
  },
  {
   "cell_type": "code",
   "execution_count": null,
   "metadata": {},
   "outputs": [],
   "source": [
    "# Scoring rate = Kohli's Rpi / Total players Rpi excluding Kohli's\n",
    "\n",
    "Total_players_rpi = (non_kohli_df['Innings Runs Scored Num']).sum()/ (non_kohli_df['Innings Batted Flag']).sum()\n",
    "kohli_scoring_rate = kohli_rpi/Total_players_rpi\n",
    "kohli_scoring_rate"
   ]
  },
  {
   "cell_type": "code",
   "execution_count": null,
   "metadata": {},
   "outputs": [],
   "source": [
    "#Sachin vs Others SR\n",
    "\n",
    "Total_players_sr = ((non_sachin_df['Innings Runs Scored Num']).sum()/ (non_sachin_df['Innings Balls Faced']).sum())*100\n",
    "sachin_scoring_sr = sachin_sr/Total_players_sr\n",
    "sachin_scoring_sr"
   ]
  },
  {
   "cell_type": "code",
   "execution_count": null,
   "metadata": {},
   "outputs": [],
   "source": [
    "#Kohli vs Others SR\n",
    "\n",
    "Total_players_sr = ((non_kohli_df['Innings Runs Scored Num']).sum()/ (non_kohli_df['Innings Balls Faced']).sum())*100\n",
    "kohli_scoring_sr = kohli_sr/Total_players_sr\n",
    "kohli_scoring_sr"
   ]
  },
  {
   "cell_type": "code",
   "execution_count": null,
   "metadata": {},
   "outputs": [],
   "source": [
    "#No.of matches taken to score 100 for Sachin, Kohli\n",
    "\n",
    "sachin_scoring_100 =(sdf['Innings Batted Flag']).sum()/(sdf[\"100's\"]).sum()\n",
    "kohli_scoring_100 =(kdf['Innings Batted Flag']).sum()/(kdf[\"100's\"]).sum()\n",
    "\n",
    "sachin_scoring_100,kohli_scoring_100"
   ]
  },
  {
   "cell_type": "code",
   "execution_count": null,
   "metadata": {},
   "outputs": [],
   "source": [
    "#Sachin Scoring 100 vs others\n",
    "\n",
    "sachin_scoring_100 =(sdf['Innings Batted Flag']).sum()/(sdf[\"100's\"]).sum()\n",
    "non_sachin_scoring_100 =(non_sachin_df['Innings Batted Flag']).sum()/(non_sachin_df[\"100's\"]).sum()\n",
    "\n",
    "sachin_scoring_100_rate = sachin_scoring_100/non_sachin_scoring_100\n",
    "sachin_scoring_100_rate"
   ]
  },
  {
   "cell_type": "code",
   "execution_count": null,
   "metadata": {},
   "outputs": [],
   "source": [
    "#Kohli Scoring 100 vs others\n",
    "\n",
    "kohli_scoring_100 =(kdf['Innings Batted Flag']).sum()/(kdf[\"100's\"]).sum()\n",
    "non_kohli_scoring_100 =(non_kohli_df['Innings Batted Flag']).sum()/(non_kohli_df[\"100's\"]).sum()\n",
    "\n",
    "kohli_scoring_100_rate = kohli_scoring_100/non_kohli_scoring_100\n",
    "kohli_scoring_100_rate"
   ]
  },
  {
   "cell_type": "code",
   "execution_count": null,
   "metadata": {},
   "outputs": [],
   "source": [
    "#No.of matches taken to score 50 for Sachin, Kohli\n",
    "\n",
    "sachin_scoring_50 =(sdf['Innings Batted Flag']).sum()/(sdf[\"50's\"]).sum()\n",
    "kohli_scoring_50 =(kdf['Innings Batted Flag']).sum()/(kdf[\"50's\"]).sum()\n",
    "\n",
    "sachin_scoring_50,kohli_scoring_50"
   ]
  },
  {
   "cell_type": "code",
   "execution_count": null,
   "metadata": {},
   "outputs": [],
   "source": [
    "#Sachin Scoring 50 vs others\n",
    "\n",
    "sachin_scoring_50 =(sdf['Innings Batted Flag']).sum()/(sdf[\"50's\"]).sum()\n",
    "non_sachin_scoring_50 =(non_sachin_df['Innings Batted Flag']).sum()/(non_sachin_df[\"50's\"]).sum()\n",
    "\n",
    "sachin_scoring_50_rate = sachin_scoring_50/non_sachin_scoring_50\n",
    "sachin_scoring_50_rate"
   ]
  },
  {
   "cell_type": "code",
   "execution_count": null,
   "metadata": {},
   "outputs": [],
   "source": [
    "#Kohli Scoring 50 vs others\n",
    "\n",
    "kohli_scoring_50 =(kdf['Innings Batted Flag']).sum()/(kdf[\"50's\"]).sum()\n",
    "non_kohli_scoring_50 =(non_kohli_df['Innings Batted Flag']).sum()/(non_kohli_df[\"50's\"]).sum()\n",
    "\n",
    "kohli_scoring_50_rate = kohli_scoring_50/non_kohli_scoring_50\n",
    "kohli_scoring_50_rate"
   ]
  },
  {
   "cell_type": "code",
   "execution_count": null,
   "metadata": {},
   "outputs": [],
   "source": [
    "sachin_contribution = (sdf['Innings Runs Scored Num'].sum() / (India_df_sachin['Innings Runs Scored Num'].sum())) *100\n",
    "kohli_contribution = (kdf['Innings Runs Scored Num'].sum() / (India_df_kohli['Innings Runs Scored Num'].sum())) *100\n",
    "\n",
    "sachin_contribution,kohli_contribution"
   ]
  },
  {
   "cell_type": "code",
   "execution_count": null,
   "metadata": {},
   "outputs": [],
   "source": []
  }
 ],
 "metadata": {
  "kernelspec": {
   "display_name": "Python 3",
   "language": "python",
   "name": "python3"
  },
  "language_info": {
   "codemirror_mode": {
    "name": "ipython",
    "version": 3
   },
   "file_extension": ".py",
   "mimetype": "text/x-python",
   "name": "python",
   "nbconvert_exporter": "python",
   "pygments_lexer": "ipython3",
   "version": "3.7.3"
  }
 },
 "nbformat": 4,
 "nbformat_minor": 5
}
